{
 "cells": [
  {
   "cell_type": "code",
   "execution_count": 56,
   "metadata": {},
   "outputs": [],
   "source": [
    "import numpy as np\n",
    "import itertools\n",
    "from scipy.signal import convolve2d\n",
    "from tqdm.notebook import tqdm"
   ]
  },
  {
   "cell_type": "code",
   "execution_count": 45,
   "metadata": {},
   "outputs": [],
   "source": [
    "class Board():\n",
    "    def __init__(self):\n",
    "        self.ROWS, self.COLUMNS, self.connect = 3, 3, 3\n",
    "        self.state = np.zeros(shape=(self.ROWS*3,self.COLUMNS*3))\n",
    "        self.meta_state = np.zeros(shape=(self.ROWS, self.COLUMNS))\n",
    "\n",
    "        #setup kernals\n",
    "        self.horizontal_kernel = np.ones(shape=(1,self.connect))\n",
    "        self.vertical_kernel = np.transpose(self.horizontal_kernel)\n",
    "        self.diag1_kernel = np.eye(self.connect, dtype=np.uint8)\n",
    "        self.diag2_kernel = np.fliplr(self.diag1_kernel)\n",
    "        self.detection_kernels = [self.horizontal_kernel, self.vertical_kernel, self.diag1_kernel, self.diag2_kernel]\n",
    "        \n",
    "    def get_available_moves(self):\n",
    "        if (self.state==0).all():\n",
    "            return list(itertools.product(range(self.ROWS*self.COLUMNS), repeat=2))\n",
    "        x, y = self.convert_coord(tuple(np.argwhere(np.absolute(self.state)==2)[0]))\n",
    "        minigame = self.state[x*3:(x+1)*3, y*3:(y+1)*3]\n",
    "        if self.minigame_is_over((x,y)):\n",
    "            #do every other miniboard\n",
    "            boards = list(np.argwhere(self.meta_state==0))\n",
    "            possible_moves = []\n",
    "            for board in boards:\n",
    "                x, y = board[0], board[1]\n",
    "                minigame = self.state[x*3:(x+1)*3, y*3:(y+1)*3]\n",
    "                moves = list(np.argwhere(minigame==0))\n",
    "                moves = [(m[0]+(x*3), m[1]+(y*3)) for m in moves]\n",
    "                possible_moves.extend(moves)\n",
    "        else:\n",
    "            possible_moves = list(np.argwhere(minigame==0))\n",
    "            possible_moves = [(m[0]+(x*3), m[1]+(y*3)) for m in possible_moves]\n",
    "            \n",
    "        return possible_moves\n",
    "        \n",
    "    def make_move(self, move, player): #player is either 1 or -1\n",
    "        if move not in self.get_available_moves():\n",
    "            raise ValueError('INVALID MOVE YOU DUMB BUTT!')\n",
    "        #change the last move to not the most recent\n",
    "        self.state[np.absolute(self.state)==2] /= 2\n",
    "        \n",
    "        #update new move\n",
    "        self.state[move[0], move[1]] = 2*player\n",
    "        \n",
    "        #update metaboard if needed\n",
    "        meta_coord = (int(move[0]/3), int(move[1]/3))\n",
    "        minigame_result = self.minigame_is_over(meta_coord)\n",
    "        if minigame_result != 0:\n",
    "            self.meta_state[meta_coord[0], meta_coord[1]] = minigame_result        \n",
    "    \n",
    "    def update_meta(self):\n",
    "        for x in range(3):\n",
    "            for y in range(3): #get all possible meta coords\n",
    "                minigame_result = self.minigame_is_over((x, y))\n",
    "                if minigame_result != 0:\n",
    "                    self.meta_state[x, y] = minigame_result   \n",
    "    \n",
    "    def minigame_is_over(self, coord): #takes minigame coord\n",
    "        x, y = coord\n",
    "        minigame = np.copy(self.state[x*3:(x+1)*3, y*3:(y+1)*3])\n",
    "        minigame[np.absolute(minigame)==2] /= 2\n",
    "        return self.check_convolve(minigame)\n",
    "    \n",
    "    def is_game_over(self):\n",
    "        return self.check_convolve(self.meta_state)\n",
    "    \n",
    "    def check_convolve(self, game):\n",
    "        for kernel in self.detection_kernels:\n",
    "            if (convolve2d(game == 1, kernel, mode=\"valid\") == self.connect).any():\n",
    "                return 1\n",
    "    \n",
    "        for kernel in self.detection_kernels:\n",
    "            if (convolve2d(game == -1, kernel, mode=\"valid\") == self.connect).any():\n",
    "                return -1\n",
    "            \n",
    "        if (game != 0).all():\n",
    "            return 1e-4 #full and draw\n",
    "        \n",
    "        return 0 #can still play\n",
    "    \n",
    "    @staticmethod\n",
    "    def convert_coord(coord):\n",
    "        x, y = coord\n",
    "        return x%3, y%3\n",
    "    \n",
    "    def display(self):\n",
    "        pieces = {\n",
    "            0: ' ',\n",
    "            1: 'x',\n",
    "            -1: 'o',\n",
    "            2: 'X',\n",
    "            -2: 'O'\n",
    "        }\n",
    "        for i, row in enumerate(self.state):\n",
    "            l = '|'\n",
    "            for j, piece in enumerate(row):\n",
    "                l += f'{pieces[piece]}|'\n",
    "                l += '|' if j==2 or j==5 else ''\n",
    "            if i==3 or i==6:\n",
    "                print('='*21)\n",
    "            print(l)"
   ]
  },
  {
   "cell_type": "code",
   "execution_count": 59,
   "metadata": {},
   "outputs": [
    {
     "data": {
      "application/vnd.jupyter.widget-view+json": {
       "model_id": "abb34f21641f4f7f99ed429537ffbe96",
       "version_major": 2,
       "version_minor": 0
      },
      "text/plain": [
       "HBox(children=(IntProgress(value=0, max=1000), HTML(value='')))"
      ]
     },
     "metadata": {},
     "output_type": "display_data"
    },
    {
     "name": "stdout",
     "output_type": "stream",
     "text": [
      "\n"
     ]
    }
   ],
   "source": [
    "outcomes = []\n",
    "for _ in tqdm(range(1000)):\n",
    "    b = Board()\n",
    "    player = 1\n",
    "    while b.is_game_over() == 0:\n",
    "        moves = b.get_available_moves()\n",
    "        if len(moves) == 0:\n",
    "            print(b.meta_state)\n",
    "        move = moves[np.random.randint(0, len(moves))]\n",
    "        b.make_move(move, player)\n",
    "        player *= -1\n",
    "        #b.display()\n",
    "        #print('')\n",
    "        #print('')\n",
    "\n",
    "    outcomes.append(b.is_game_over())"
   ]
  },
  {
   "cell_type": "code",
   "execution_count": 60,
   "metadata": {},
   "outputs": [
    {
     "name": "stdout",
     "output_type": "stream",
     "text": [
      "0.381 0.376 0.243\n"
     ]
    }
   ],
   "source": [
    "outcomes = np.asarray(outcomes)\n",
    "print(np.sum(outcomes==1)/len(outcomes), np.sum(outcomes==-1)/len(outcomes), np.sum(outcomes==1e-4)/len(outcomes))"
   ]
  },
  {
   "cell_type": "code",
   "execution_count": null,
   "metadata": {},
   "outputs": [],
   "source": []
  }
 ],
 "metadata": {
  "kernelspec": {
   "display_name": "Python 3",
   "language": "python",
   "name": "python3"
  },
  "language_info": {
   "codemirror_mode": {
    "name": "ipython",
    "version": 3
   },
   "file_extension": ".py",
   "mimetype": "text/x-python",
   "name": "python",
   "nbconvert_exporter": "python",
   "pygments_lexer": "ipython3",
   "version": "3.7.4"
  }
 },
 "nbformat": 4,
 "nbformat_minor": 2
}
